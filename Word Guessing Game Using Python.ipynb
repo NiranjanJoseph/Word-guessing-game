{
 "cells": [
  {
   "cell_type": "code",
   "execution_count": 12,
   "id": "6ba7b980",
   "metadata": {},
   "outputs": [
    {
     "name": "stdout",
     "output_type": "stream",
     "text": [
      "Word: ____\n",
      "Guessed letters: []\n",
      "Incorrect attempts: 0\n",
      "Guess a letter: Bike\n",
      "Wrong guess!\n",
      "Word: ____\n",
      "Guessed letters: ['bike']\n",
      "Incorrect attempts: 1\n",
      "Guess a letter: Car\n",
      "Wrong guess!\n",
      "Word: ____\n",
      "Guessed letters: ['bike', 'car']\n",
      "Incorrect attempts: 2\n",
      "Guess a letter: Ship\n",
      "Wrong guess!\n",
      "Word: ____\n",
      "Guessed letters: ['bike', 'car', 'ship']\n",
      "Incorrect attempts: 3\n",
      "Sorry, you ran out of attempts. The word was: Ship\n",
      "Do you want to play again? (yes/no): no\n",
      "game over\n"
     ]
    }
   ],
   "source": [
    "##Project 1 \n",
    "\n",
    "#Word Guessing Game Using Python\n",
    "\n",
    "\n",
    "\n",
    "import random\n",
    "\n",
    "def pick_word():\n",
    "    words = [\"Bike\", \"Car\", \"Ship\", \"Plane\"]\n",
    "    return random.choice(words)\n",
    "\n",
    "def play_game():\n",
    "    word = pick_word()\n",
    "    guessed_letters = []\n",
    "    incorrect_attempts = 0\n",
    "    max_attempts = 3\n",
    "\n",
    "    while True:\n",
    "        display_word = \"\"\n",
    "        for letter in word:\n",
    "            if letter in guessed_letters:\n",
    "                display_word += letter\n",
    "            else:\n",
    "                display_word += \"_\"\n",
    "\n",
    "        print(\"Word:\", display_word)\n",
    "        print(\"Guessed letters:\", guessed_letters)\n",
    "        print(\"Incorrect attempts:\", incorrect_attempts)\n",
    "\n",
    "        if display_word == word:\n",
    "            print(\"Congratulations! You guessed the word correctly!\")\n",
    "            break\n",
    "\n",
    "        if incorrect_attempts == max_attempts:\n",
    "            print(\"Sorry, you ran out of attempts. The word was:\", word)\n",
    "            break\n",
    "\n",
    "        guess = input(\"Guess a letter: \").lower()\n",
    "\n",
    "        if guess in guessed_letters:\n",
    "            print(\"You already guessed that letter. Try again.\")\n",
    "            continue\n",
    "\n",
    "        guessed_letters.append(guess)\n",
    "\n",
    "        if guess not in word:\n",
    "            incorrect_attempts += 1\n",
    "            print(\"Wrong guess!\")\n",
    "\n",
    "    play_again = input(\"Do you want to play again? (yes/no): \").lower()\n",
    "    if play_again == \"yes\":\n",
    "        play_game()\n",
    "    else:\n",
    "        print(\"game over\")\n",
    "\n",
    "play_game()\n"
   ]
  },
  {
   "cell_type": "code",
   "execution_count": null,
   "id": "9f357096",
   "metadata": {},
   "outputs": [],
   "source": []
  }
 ],
 "metadata": {
  "kernelspec": {
   "display_name": "Python 3 (ipykernel)",
   "language": "python",
   "name": "python3"
  },
  "language_info": {
   "codemirror_mode": {
    "name": "ipython",
    "version": 3
   },
   "file_extension": ".py",
   "mimetype": "text/x-python",
   "name": "python",
   "nbconvert_exporter": "python",
   "pygments_lexer": "ipython3",
   "version": "3.9.13"
  }
 },
 "nbformat": 4,
 "nbformat_minor": 5
}
